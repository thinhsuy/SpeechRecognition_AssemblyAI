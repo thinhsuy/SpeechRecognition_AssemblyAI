{
 "cells": [
  {
   "cell_type": "code",
   "execution_count": 6,
   "metadata": {},
   "outputs": [],
   "source": [
    "import speech_recognition as sr\n",
    "import pyttsx3\n",
    "import openai\n",
    "from API_KEY import *\n",
    "r = sr.Recognizer()\n",
    "s = pyttsx3.init()\n",
    "openai.api_key = API_KEY_OPENAI"
   ]
  },
  {
   "attachments": {},
   "cell_type": "markdown",
   "metadata": {},
   "source": [
    "This api call might cost for several $, be careful before calling it"
   ]
  },
  {
   "cell_type": "code",
   "execution_count": 7,
   "metadata": {},
   "outputs": [],
   "source": [
    "def OpenAPI_response(prompt):\n",
    "    response = openai.Completion.create(\n",
    "        model=\"text-davinci-003\",\n",
    "        prompt=prompt,\n",
    "        max_tokens=50\n",
    "    )\n",
    "    # return response[\"choices\"][0][\"text\"]\n",
    "    return response"
   ]
  },
  {
   "cell_type": "code",
   "execution_count": 8,
   "metadata": {},
   "outputs": [
    {
     "name": "stdout",
     "output_type": "stream",
     "text": [
      "Say something...\n"
     ]
    }
   ],
   "source": [
    "with sr.Microphone() as source:\n",
    "    # Adjust for ambient noise\n",
    "    r.adjust_for_ambient_noise(source, duration=0.5)\n",
    "    # Listen for user input\n",
    "    print(\"Say something...\")\n",
    "    audio = r.listen(source, \n",
    "                    timeout=3, # Listen for up to 3 seconds or until speech is detected\n",
    "                    phrase_time_limit=5 # Listen for up to 5 seconds or until speech exceeds 5 seconds\n",
    "                    )"
   ]
  },
  {
   "cell_type": "code",
   "execution_count": 9,
   "metadata": {},
   "outputs": [],
   "source": [
    "def ResponseSpeaker(response_mess):\n",
    "    s.say(response_mess)\n",
    "    s.runAndWait()"
   ]
  },
  {
   "cell_type": "code",
   "execution_count": 10,
   "metadata": {},
   "outputs": [
    {
     "name": "stdout",
     "output_type": "stream",
     "text": [
      "You said:  what is the date today\n",
      "Javis: {\n",
      "  \"choices\": [\n",
      "    {\n",
      "      \"finish_reason\": \"stop\",\n",
      "      \"index\": 0,\n",
      "      \"logprobs\": null,\n",
      "      \"text\": \"\\nMy name is Patricia.\"\n",
      "    }\n",
      "  ],\n",
      "  \"created\": 1683700501,\n",
      "  \"id\": \"cmpl-7EXhdu6FS6D2k4d7VyGN3Wtlwq5Ig\",\n",
      "  \"model\": \"text-davinci-003\",\n",
      "  \"object\": \"text_completion\",\n",
      "  \"usage\": {\n",
      "    \"completion_tokens\": 6,\n",
      "    \"prompt_tokens\": 6,\n",
      "    \"total_tokens\": 12\n",
      "  }\n",
      "}\n"
     ]
    },
    {
     "name": "stderr",
     "output_type": "stream",
     "text": [
      "Exception ignored in: <function BSTR.__del__ at 0x000001D3A13684C0>\n",
      "Traceback (most recent call last):\n",
      "  File \"c:\\APP\\Python\\lib\\site-packages\\comtypes\\__init__.py\", line 1044, in __del__\n",
      "    def __del__(self, _free=windll.oleaut32.SysFreeString):\n",
      "KeyboardInterrupt: \n"
     ]
    }
   ],
   "source": [
    "# Convert speech to text\n",
    "try:\n",
    "    text = r.recognize_google(audio)\n",
    "    print(\"You said: \", text)\n",
    "    response = OpenAPI_response(\"What's your name?\\n\")\n",
    "    print(f'Javis: {response}')\n",
    "    ResponseSpeaker(response)\n",
    "except sr.UnknownValueError:\n",
    "    print(\"Speech recognition could not understand audio\")\n",
    "except sr.RequestError as e:\n",
    "    print(\"Could not request results from Speech Recognition service; {0}\".format(e))"
   ]
  }
 ],
 "metadata": {
  "kernelspec": {
   "display_name": "Python 3",
   "language": "python",
   "name": "python3"
  },
  "language_info": {
   "codemirror_mode": {
    "name": "ipython",
    "version": 3
   },
   "file_extension": ".py",
   "mimetype": "text/x-python",
   "name": "python",
   "nbconvert_exporter": "python",
   "pygments_lexer": "ipython3",
   "version": "3.10.2"
  },
  "orig_nbformat": 4
 },
 "nbformat": 4,
 "nbformat_minor": 2
}
