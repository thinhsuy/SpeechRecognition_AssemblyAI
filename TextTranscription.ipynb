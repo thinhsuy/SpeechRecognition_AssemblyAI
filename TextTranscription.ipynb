{
 "cells": [
  {
   "cell_type": "code",
   "execution_count": 22,
   "metadata": {},
   "outputs": [],
   "source": [
    "import requests\n",
    "from API_KEY import API_KEY_ASSEMBLYAI\n",
    "import time"
   ]
  },
  {
   "attachments": {},
   "cell_type": "markdown",
   "metadata": {},
   "source": [
    "### Uploading file to server[1]"
   ]
  },
  {
   "cell_type": "code",
   "execution_count": 24,
   "metadata": {},
   "outputs": [
    {
     "name": "stdout",
     "output_type": "stream",
     "text": [
      "{'upload_url': 'https://cdn.assemblyai.com/upload/4b2c7bc2-cf55-4a30-b854-cefbd46580d5'}\n"
     ]
    }
   ],
   "source": [
    "filename = 'data/GraphAttentionNetworks.wav'\n",
    "upload_endpoint = 'https://api.assemblyai.com/v2/upload'\n",
    "\n",
    "def read_file(filename, chunk_size=5242880):\n",
    "    with open(filename, 'rb') as _file:\n",
    "        while True:\n",
    "            data = _file.read(chunk_size)\n",
    "            if not data:\n",
    "                break\n",
    "            yield data\n",
    "\n",
    "headers = {'authorization': API_KEY_ASSEMBLYAI}\n",
    "response = requests.post(upload_endpoint,\n",
    "                        headers=headers,\n",
    "                        data=read_file(filename))\n",
    "\n",
    "print(response.json())"
   ]
  },
  {
   "attachments": {},
   "cell_type": "markdown",
   "metadata": {},
   "source": [
    "Extract URL"
   ]
  },
  {
   "cell_type": "code",
   "execution_count": 16,
   "metadata": {},
   "outputs": [
    {
     "data": {
      "text/plain": [
       "'https://cdn.assemblyai.com/upload/a3066a42-aa57-45c5-996b-1575c62c3daa'"
      ]
     },
     "execution_count": 16,
     "metadata": {},
     "output_type": "execute_result"
    }
   ],
   "source": [
    "audio_url = response.json()['upload_url']\n",
    "audio_url"
   ]
  },
  {
   "attachments": {},
   "cell_type": "markdown",
   "metadata": {},
   "source": [
    "### Transcribe endpoint file[1]"
   ]
  },
  {
   "cell_type": "code",
   "execution_count": 17,
   "metadata": {},
   "outputs": [
    {
     "name": "stdout",
     "output_type": "stream",
     "text": [
      "{'id': '6ejz5eysx0-e0ee-4330-914f-fe4c46eabada', 'language_model': 'assemblyai_default', 'acoustic_model': 'assemblyai_default', 'language_code': 'en_us', 'status': 'queued', 'audio_url': 'https://cdn.assemblyai.com/upload/a3066a42-aa57-45c5-996b-1575c62c3daa', 'text': None, 'words': None, 'utterances': None, 'confidence': None, 'audio_duration': None, 'punctuate': True, 'format_text': True, 'dual_channel': None, 'webhook_url': None, 'webhook_status_code': None, 'webhook_auth': False, 'webhook_auth_header_name': None, 'speed_boost': False, 'auto_highlights_result': None, 'auto_highlights': False, 'audio_start_from': None, 'audio_end_at': None, 'word_boost': [], 'boost_param': None, 'filter_profanity': False, 'redact_pii': False, 'redact_pii_audio': False, 'redact_pii_audio_quality': None, 'redact_pii_policies': None, 'redact_pii_sub': None, 'speaker_labels': False, 'content_safety': False, 'iab_categories': False, 'content_safety_labels': {}, 'iab_categories_result': {}, 'language_detection': False, 'custom_spelling': None, 'throttled': None, 'auto_chapters': False, 'summarization': False, 'summary_type': None, 'summary_model': None, 'custom_topics': False, 'topics': [], 'disfluencies': False, 'sentiment_analysis': False, 'sentiment_analysis_results': None, 'chapters': None, 'entity_detection': False, 'entities': None, 'speakers_expected': None}\n"
     ]
    }
   ],
   "source": [
    "transcript_endpoint = \"https://api.assemblyai.com/v2/transcript\"\n",
    "json = { \"audio_url\": audio_url }\n",
    "\n",
    "response = requests.post(transcript_endpoint, json=json, headers=headers)\n",
    "print(response.json())"
   ]
  },
  {
   "attachments": {},
   "cell_type": "markdown",
   "metadata": {},
   "source": [
    "Extract JOB id"
   ]
  },
  {
   "cell_type": "code",
   "execution_count": 18,
   "metadata": {},
   "outputs": [
    {
     "data": {
      "text/plain": [
       "'6ejz5eysx0-e0ee-4330-914f-fe4c46eabada'"
      ]
     },
     "execution_count": 18,
     "metadata": {},
     "output_type": "execute_result"
    }
   ],
   "source": [
    "job_id = response.json()['id']\n",
    "job_id"
   ]
  },
  {
   "attachments": {},
   "cell_type": "markdown",
   "metadata": {},
   "source": [
    "### Polling server for response whether JOB already or not"
   ]
  },
  {
   "attachments": {},
   "cell_type": "markdown",
   "metadata": {},
   "source": [
    "If status is not `completed`, wait for a while then calling request back"
   ]
  },
  {
   "cell_type": "code",
   "execution_count": 19,
   "metadata": {},
   "outputs": [
    {
     "name": "stdout",
     "output_type": "stream",
     "text": [
      "Current status: processing\n",
      "Current status: processing\n",
      "Current status: processing\n",
      "Current status: completed\n"
     ]
    }
   ],
   "source": [
    "polling_endpoint = transcript_endpoint + '/' + job_id\n",
    "limit_time = 60\n",
    "while True:\n",
    "    response = requests.get(polling_endpoint, headers=headers) # getting information to the server\n",
    "    status = response.json()['status']\n",
    "    print(f\"Current status: {status}\")\n",
    "    if status=='completed' or status=='error' or limit_time<=0 : break\n",
    "    limit_time-=1\n",
    "    time.sleep(1)"
   ]
  },
  {
   "attachments": {},
   "cell_type": "markdown",
   "metadata": {},
   "source": [
    "### Save transription"
   ]
  },
  {
   "cell_type": "code",
   "execution_count": 21,
   "metadata": {},
   "outputs": [
    {
     "name": "stdout",
     "output_type": "stream",
     "text": [
      "Transcription saved\n"
     ]
    }
   ],
   "source": [
    "if status == 'error': raise Exception('Error File!')\n",
    "output = 'data/transcript_GraphAttentionNetworks.txt'\n",
    "with open(output, \"w\") as ifs:\n",
    "    ifs.write(response.json()['text'])\n",
    "print('Transcription saved')"
   ]
  },
  {
   "attachments": {},
   "cell_type": "markdown",
   "metadata": {},
   "source": [
    "### References\n",
    "[[1] How to upload and transcribe file to server](https://www.assemblyai.com/docs/walkthroughs#uploading-local-files-for-transcription)"
   ]
  }
 ],
 "metadata": {
  "kernelspec": {
   "display_name": "Python 3",
   "language": "python",
   "name": "python3"
  },
  "language_info": {
   "codemirror_mode": {
    "name": "ipython",
    "version": 3
   },
   "file_extension": ".py",
   "mimetype": "text/x-python",
   "name": "python",
   "nbconvert_exporter": "python",
   "pygments_lexer": "ipython3",
   "version": "3.10.2"
  },
  "orig_nbformat": 4
 },
 "nbformat": 4,
 "nbformat_minor": 2
}
