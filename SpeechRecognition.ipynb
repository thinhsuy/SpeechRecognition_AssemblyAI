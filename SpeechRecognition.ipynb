{
 "cells": [
  {
   "cell_type": "code",
   "execution_count": 1,
   "metadata": {},
   "outputs": [],
   "source": [
    "import pyaudio\n",
    "import speech_recognition \n",
    "import time\n",
    "import pyttsx3\n",
    "from selenium import webdriver\n",
    "from selenium.webdriver.common.by import By\n",
    "from selenium.common.exceptions import TimeoutException\n",
    "from selenium.webdriver.support.ui import WebDriverWait\n",
    "from selenium.webdriver.support import expected_conditions as EC"
   ]
  },
  {
   "cell_type": "code",
   "execution_count": 31,
   "metadata": {},
   "outputs": [
    {
     "data": {
      "text/plain": [
       "{2: 'Headset (Duy Thá»‹nhâ€™s AirPods Pr',\n",
       " 6: 'Primary Sound Capture Driver',\n",
       " 7: 'Microphone (Realtek High Definition Audio)',\n",
       " 8: 'Headset (Duy Thá»‹nhâ€™s AirPods Pro)',\n",
       " 15: 'Headset (Duy Thá»‹nhâ€™s AirPods Pro)'}"
      ]
     },
     "execution_count": 31,
     "metadata": {},
     "output_type": "execute_result"
    }
   ],
   "source": [
    "# speech_recognition.Microphone().list_working_microphones()"
   ]
  },
  {
   "cell_type": "code",
   "execution_count": 2,
   "metadata": {},
   "outputs": [],
   "source": [
    "engine = pyttsx3.init()\n",
    "rate = engine.getProperty('rate')\n",
    "engine.setProperty('rate', rate-50)\n",
    "engine.say(\"Please confirm the authetical for the chat box\")\n",
    "engine.runAndWait()"
   ]
  },
  {
   "cell_type": "code",
   "execution_count": 52,
   "metadata": {},
   "outputs": [
    {
     "name": "stdout",
     "output_type": "stream",
     "text": [
      "Audio cannot detected\n",
      "Audio cannot detected\n",
      "Audio cannot detected\n",
      "Audio cannot detected\n",
      "Audio cannot detected\n",
      "Audio cannot detected\n",
      "Audio cannot detected\n",
      "Audio cannot detected\n",
      "Audio cannot detected\n",
      "Audio cannot detected\n"
     ]
    },
    {
     "ename": "TypeError",
     "evalue": "catching classes that do not inherit from BaseException is not allowed",
     "output_type": "error",
     "traceback": [
      "\u001b[1;31m---------------------------------------------------------------------------\u001b[0m",
      "\u001b[1;31mWaitTimeoutError\u001b[0m                          Traceback (most recent call last)",
      "\u001b[1;32md:\\Sequence\\Compilers\\DataScience_(AI)\\Speech_Recognition\\SpeechRecognition.ipynb Cell 4\u001b[0m in \u001b[0;36m<cell line: 2>\u001b[1;34m()\u001b[0m\n\u001b[0;32m      <a href='vscode-notebook-cell:/d%3A/Sequence/Compilers/DataScience_%28AI%29/Speech_Recognition/SpeechRecognition.ipynb#W3sZmlsZQ%3D%3D?line=5'>6</a>\u001b[0m rec\u001b[39m.\u001b[39madjust_for_ambient_noise(mic, duration\u001b[39m=\u001b[39m\u001b[39m1\u001b[39m)\n\u001b[1;32m----> <a href='vscode-notebook-cell:/d%3A/Sequence/Compilers/DataScience_%28AI%29/Speech_Recognition/SpeechRecognition.ipynb#W3sZmlsZQ%3D%3D?line=6'>7</a>\u001b[0m audio \u001b[39m=\u001b[39m rec\u001b[39m.\u001b[39;49mlisten(mic, timeout\u001b[39m=\u001b[39;49m\u001b[39m5\u001b[39;49m, phrase_time_limit\u001b[39m=\u001b[39;49m\u001b[39m1\u001b[39;49m)\n\u001b[0;32m      <a href='vscode-notebook-cell:/d%3A/Sequence/Compilers/DataScience_%28AI%29/Speech_Recognition/SpeechRecognition.ipynb#W3sZmlsZQ%3D%3D?line=7'>8</a>\u001b[0m \u001b[39mtry\u001b[39;00m:\n",
      "File \u001b[1;32mc:\\APP\\Python\\lib\\site-packages\\speech_recognition\\__init__.py:489\u001b[0m, in \u001b[0;36mRecognizer.listen\u001b[1;34m(self, source, timeout, phrase_time_limit, snowboy_configuration)\u001b[0m\n\u001b[0;32m    488\u001b[0m \u001b[39mif\u001b[39;00m timeout \u001b[39mand\u001b[39;00m elapsed_time \u001b[39m>\u001b[39m timeout:\n\u001b[1;32m--> 489\u001b[0m     \u001b[39mraise\u001b[39;00m WaitTimeoutError(\u001b[39m\"\u001b[39m\u001b[39mlistening timed out while waiting for phrase to start\u001b[39m\u001b[39m\"\u001b[39m)\n\u001b[0;32m    491\u001b[0m buffer \u001b[39m=\u001b[39m source\u001b[39m.\u001b[39mstream\u001b[39m.\u001b[39mread(source\u001b[39m.\u001b[39mCHUNK)\n",
      "\u001b[1;31mWaitTimeoutError\u001b[0m: listening timed out while waiting for phrase to start",
      "\nDuring handling of the above exception, another exception occurred:\n",
      "\u001b[1;31mTypeError\u001b[0m                                 Traceback (most recent call last)",
      "\u001b[1;32md:\\Sequence\\Compilers\\DataScience_(AI)\\Speech_Recognition\\SpeechRecognition.ipynb Cell 4\u001b[0m in \u001b[0;36m<cell line: 2>\u001b[1;34m()\u001b[0m\n\u001b[0;32m     <a href='vscode-notebook-cell:/d%3A/Sequence/Compilers/DataScience_%28AI%29/Speech_Recognition/SpeechRecognition.ipynb#W3sZmlsZQ%3D%3D?line=9'>10</a>\u001b[0m             \u001b[39mprint\u001b[39m(text\u001b[39m.\u001b[39mlower())\n\u001b[0;32m     <a href='vscode-notebook-cell:/d%3A/Sequence/Compilers/DataScience_%28AI%29/Speech_Recognition/SpeechRecognition.ipynb#W3sZmlsZQ%3D%3D?line=10'>11</a>\u001b[0m         \u001b[39mexcept\u001b[39;00m: \u001b[39mprint\u001b[39m(\u001b[39m\"\u001b[39m\u001b[39mAudio cannot detected\u001b[39m\u001b[39m\"\u001b[39m)\n\u001b[1;32m---> <a href='vscode-notebook-cell:/d%3A/Sequence/Compilers/DataScience_%28AI%29/Speech_Recognition/SpeechRecognition.ipynb#W3sZmlsZQ%3D%3D?line=11'>12</a>\u001b[0m \u001b[39mexcept\u001b[39;00m speech_recognition\u001b[39m.\u001b[39mUnknownValueError():\n\u001b[0;32m     <a href='vscode-notebook-cell:/d%3A/Sequence/Compilers/DataScience_%28AI%29/Speech_Recognition/SpeechRecognition.ipynb#W3sZmlsZQ%3D%3D?line=12'>13</a>\u001b[0m     \u001b[39mprint\u001b[39m(\u001b[39m\"\u001b[39m\u001b[39mCannot detect current voice as data\u001b[39m\u001b[39m\"\u001b[39m)\n\u001b[0;32m     <a href='vscode-notebook-cell:/d%3A/Sequence/Compilers/DataScience_%28AI%29/Speech_Recognition/SpeechRecognition.ipynb#W3sZmlsZQ%3D%3D?line=13'>14</a>\u001b[0m     \u001b[39mprint\u001b[39m(\u001b[39m\"\u001b[39m\u001b[39mTry to reconnect to Recognizer again\u001b[39m\u001b[39m\"\u001b[39m)\n",
      "\u001b[1;31mTypeError\u001b[0m: catching classes that do not inherit from BaseException is not allowed"
     ]
    }
   ],
   "source": [
    "rec = speech_recognition.Recognizer()\n",
    "while True:\n",
    "    try:\n",
    "        with speech_recognition.Microphone() as mic:\n",
    "            # print('testing receiving audio ....')\n",
    "            rec.adjust_for_ambient_noise(mic, duration=1)\n",
    "            audio = rec.listen(mic, timeout=5, phrase_time_limit=1)\n",
    "            try:\n",
    "                text = rec.recognize_google(audio)\n",
    "                print(text.lower())\n",
    "            except: print(\"Audio cannot detected\")\n",
    "    except speech_recognition.UnknownValueError():\n",
    "        print(\"Cannot detect current voice as data\")\n",
    "        print(\"Try to reconnect to Recognizer again\")\n",
    "        rec = speech_recognition.Recognizer()\n",
    "        continue\n",
    "# speech_recognition.Microphone(7).list_working_microphones()\n"
   ]
  }
 ],
 "metadata": {
  "kernelspec": {
   "display_name": "Python 3",
   "language": "python",
   "name": "python3"
  },
  "language_info": {
   "codemirror_mode": {
    "name": "ipython",
    "version": 3
   },
   "file_extension": ".py",
   "mimetype": "text/x-python",
   "name": "python",
   "nbconvert_exporter": "python",
   "pygments_lexer": "ipython3",
   "version": "3.10.2"
  },
  "orig_nbformat": 4
 },
 "nbformat": 4,
 "nbformat_minor": 2
}
